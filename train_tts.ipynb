{
 "cells": [
  {
   "cell_type": "code",
   "execution_count": null,
   "metadata": {},
   "outputs": [],
   "source": [
    "import os\n",
    "from TTS.config import BaseAudioConfig\n",
    "from TTS.trainer import Trainer, TrainerArgs\n",
    "from TTS.tts.configs.xtts_config import XttsConfig\n",
    "from TTS.tts.datasets import load_tts_samples\n",
    "from TTS.tts.models.xtts import Xtts"
   ]
  },
  {
   "cell_type": "code",
   "execution_count": null,
   "metadata": {},
   "outputs": [],
   "source": [
    "os.environ[\"CUDA_VISIBLE_DEVICES\"] = \"0\"\n",
    "os.environ[\"TORCH_CUDNN_BENCHMARK\"] = \"1\"   "
   ]
  },
  {
   "cell_type": "code",
   "execution_count": null,
   "metadata": {},
   "outputs": [],
   "source": [
    "print(\">> Loading configuration from config.json...\")\n",
    "config = XttsConfig()\n",
    "config.load_json(\"config.json\")\n"
   ]
  },
  {
   "cell_type": "code",
   "execution_count": null,
   "metadata": {},
   "outputs": [],
   "source": [
    "audio_config = BaseAudioConfig(**config.audio)"
   ]
  },
  {
   "cell_type": "code",
   "execution_count": null,
   "metadata": {},
   "outputs": [],
   "source": [
    "print(\">> Loading dataset...\")\n",
    "train_samples, eval_samples = load_tts_samples(\n",
    "    dataset_config=config.dataset_config,\n",
    "    eval_split=True,\n",
    "    eval_split_max_size=512,  # Limit eval set size for faster evals\n",
    "    eval_split_size=0.1\n",
    ")"
   ]
  },
  {
   "cell_type": "code",
   "execution_count": null,
   "metadata": {},
   "outputs": [],
   "source": [
    "print(\">> Initializing XTTS-v2 model for fine-tuning...\")\n",
    "# This will download the XTTS-v2 model specified in the config and prepare it for training\n",
    "model = Xtts.init_from_config(config)\n"
   ]
  },
  {
   "cell_type": "code",
   "execution_count": null,
   "metadata": {},
   "outputs": [],
   "source": [
    "trainer = Trainer(\n",
    "    TrainerArgs(), # Use default trainer args, settings are in the config\n",
    "    config,\n",
    "    output_path=config.output_path,\n",
    "    model=model,\n",
    "    train_samples=train_samples,\n",
    "    eval_samples=eval_samples,\n",
    "    audio_config=audio_config,\n",
    ")\n"
   ]
  },
  {
   "cell_type": "code",
   "execution_count": null,
   "metadata": {},
   "outputs": [],
   "source": [
    "print(\">> Starting Varhadi Marathi fine-tuning on XTTS-v2...\")\n",
    "# The trainer will automatically find the latest checkpoint in 'output_path' and resume\n",
    "trainer.fit()\n",
    "\n",
    "print(f\"✅ Fine-tuning complete! Best model saved in: {config.output_path}\")"
   ]
  },
  {
   "cell_type": "markdown",
   "metadata": {},
   "source": [
    "To Use Saved model"
   ]
  },
  {
   "cell_type": "code",
   "execution_count": null,
   "metadata": {},
   "outputs": [],
   "source": [
    "from TTS.api import TTS\n",
    "import torch\n",
    "\n",
    "# Path to the best model's directory\n",
    "model_path = \"output/best_model.pth\" # Replace with the actual path from your output folder\n",
    "config_path = \"output/config.json\" # The config file saved in the output folder\n",
    "\n",
    "# Check for CUDA availability\n",
    "device = \"cuda\" if torch.cuda.is_available() else \"cpu\"\n",
    "\n",
    "# Load the trained model\n",
    "tts = TTS.load_from_checkpoint(\n",
    "    config_path=config_path,\n",
    "    checkpoint_path=model_path,\n",
    "    speaker_wav=\"dataset/wavs/varhadi_0001.wav\", # Provide one of your voice samples\n",
    "    language=\"mr\"\n",
    ")\n",
    "tts.to(device)\n",
    "\n",
    "# Generate speech\n",
    "text_to_speak = \"माझं नाव विदर्भ एआय हाये. तुमची काय मदत करू शकतो मी?\"\n",
    "output_file = \"generated_speech.wav\"\n",
    "tts.tts_to_file(text=text_to_speak, file_path=output_file)\n",
    "\n",
    "print(f\"Speech generated and saved to {output_file}\")"
   ]
  },
  {
   "cell_type": "code",
   "execution_count": null,
   "metadata": {},
   "outputs": [],
   "source": []
  }
 ],
 "metadata": {
  "kernelspec": {
   "display_name": "3.12.2",
   "language": "python",
   "name": "python3"
  },
  "language_info": {
   "name": "python",
   "version": "3.12.2"
  }
 },
 "nbformat": 4,
 "nbformat_minor": 2
}
